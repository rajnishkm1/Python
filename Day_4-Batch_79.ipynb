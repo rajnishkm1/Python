{
 "cells": [
  {
   "cell_type": "code",
   "execution_count": null,
   "id": "49cac3d7",
   "metadata": {},
   "outputs": [],
   "source": [
    "Introduation to list Datatype"
   ]
  },
  {
   "cell_type": "code",
   "execution_count": null,
   "id": "3dbe2784",
   "metadata": {},
   "outputs": [],
   "source": [
    "Defination : A list is a collection of items declared in a particular order\n",
    "Classification : It is classified as an mutable datatype\n",
    "\n",
    "How to define the list .......?[]"
   ]
  },
  {
   "cell_type": "code",
   "execution_count": 2,
   "id": "808afe46",
   "metadata": {},
   "outputs": [],
   "source": [
    "students = ['vinoth','ramiya','ayesa','sara','devid','naveen','ahmad']"
   ]
  },
  {
   "cell_type": "code",
   "execution_count": 3,
   "id": "94ab94c9",
   "metadata": {},
   "outputs": [
    {
     "name": "stdout",
     "output_type": "stream",
     "text": [
      "['vinoth', 'ramiya', 'ayesa', 'sara', 'devid', 'naveen', 'ahmad']\n"
     ]
    }
   ],
   "source": [
    "print(students)"
   ]
  },
  {
   "cell_type": "code",
   "execution_count": 4,
   "id": "30166c1f",
   "metadata": {},
   "outputs": [
    {
     "data": {
      "text/plain": [
       "list"
      ]
     },
     "execution_count": 4,
     "metadata": {},
     "output_type": "execute_result"
    }
   ],
   "source": [
    "type(students)"
   ]
  },
  {
   "cell_type": "code",
   "execution_count": null,
   "id": "c2a152ed",
   "metadata": {},
   "outputs": [],
   "source": [
    "Introducing to Indexing : 0,1,2,3,4,5,....."
   ]
  },
  {
   "cell_type": "code",
   "execution_count": null,
   "id": "5efc8367",
   "metadata": {},
   "outputs": [],
   "source": [
    "#I want to access ramiya name on the Output"
   ]
  },
  {
   "cell_type": "code",
   "execution_count": 5,
   "id": "58c3376b",
   "metadata": {},
   "outputs": [
    {
     "name": "stdout",
     "output_type": "stream",
     "text": [
      "ramiya\n"
     ]
    }
   ],
   "source": [
    "print(students[1])"
   ]
  },
  {
   "cell_type": "code",
   "execution_count": 6,
   "id": "38108854",
   "metadata": {},
   "outputs": [
    {
     "name": "stdout",
     "output_type": "stream",
     "text": [
      "Ramiya\n"
     ]
    }
   ],
   "source": [
    "print(students[1].title())"
   ]
  },
  {
   "cell_type": "code",
   "execution_count": 7,
   "id": "2f847608",
   "metadata": {},
   "outputs": [
    {
     "name": "stdout",
     "output_type": "stream",
     "text": [
      "Sara\n"
     ]
    }
   ],
   "source": [
    "print(students[3].title())"
   ]
  },
  {
   "cell_type": "code",
   "execution_count": null,
   "id": "0ca1bd4f",
   "metadata": {},
   "outputs": [],
   "source": [
    "# req : I want to add kunal in the abpve list"
   ]
  },
  {
   "cell_type": "code",
   "execution_count": 14,
   "id": "a1e55d2a",
   "metadata": {},
   "outputs": [],
   "source": [
    "students.append('kunal')"
   ]
  },
  {
   "cell_type": "code",
   "execution_count": 15,
   "id": "68ef519f",
   "metadata": {},
   "outputs": [
    {
     "name": "stdout",
     "output_type": "stream",
     "text": [
      "['vinoth', 'ramiya', 'ayesa', 'sara', 'devid', 'naveen', 'ahmad', 'kunal']\n"
     ]
    }
   ],
   "source": [
    "print(students)"
   ]
  },
  {
   "cell_type": "code",
   "execution_count": 16,
   "id": "3ab63be3",
   "metadata": {},
   "outputs": [],
   "source": [
    "students.append('kalyani')"
   ]
  },
  {
   "cell_type": "code",
   "execution_count": 17,
   "id": "3794a05c",
   "metadata": {},
   "outputs": [
    {
     "name": "stdout",
     "output_type": "stream",
     "text": [
      "['vinoth', 'ramiya', 'ayesa', 'sara', 'devid', 'naveen', 'ahmad', 'kunal', 'kalyani']\n"
     ]
    }
   ],
   "source": [
    "print(students)"
   ]
  },
  {
   "cell_type": "code",
   "execution_count": 20,
   "id": "8330862e",
   "metadata": {},
   "outputs": [
    {
     "name": "stdout",
     "output_type": "stream",
     "text": [
      "Ramiya\n"
     ]
    }
   ],
   "source": [
    "print(students[1].title())"
   ]
  },
  {
   "cell_type": "code",
   "execution_count": 22,
   "id": "ec95da9a",
   "metadata": {},
   "outputs": [],
   "source": [
    "# I want to add firdows on the 2nd position"
   ]
  },
  {
   "cell_type": "code",
   "execution_count": 23,
   "id": "a954b52d",
   "metadata": {},
   "outputs": [],
   "source": [
    "students.insert(2,'firdos')"
   ]
  },
  {
   "cell_type": "code",
   "execution_count": 26,
   "id": "212413e7",
   "metadata": {},
   "outputs": [
    {
     "name": "stdout",
     "output_type": "stream",
     "text": [
      "['vinoth', 'ramiya', 'firdos', 'ayesa', 'sara', 'devid', 'naveen', 'ahmad', 'kunal', 'kalyani']\n"
     ]
    }
   ],
   "source": [
    "print(students)"
   ]
  },
  {
   "cell_type": "code",
   "execution_count": 27,
   "id": "a0cba05d",
   "metadata": {},
   "outputs": [
    {
     "name": "stdout",
     "output_type": "stream",
     "text": [
      "Firdos\n"
     ]
    }
   ],
   "source": [
    "print(students[2].title())"
   ]
  },
  {
   "cell_type": "code",
   "execution_count": null,
   "id": "382ff3c5",
   "metadata": {},
   "outputs": [],
   "source": []
  },
  {
   "cell_type": "code",
   "execution_count": null,
   "id": "370c5ddc",
   "metadata": {},
   "outputs": [],
   "source": [
    "Interview question : Can you pls explain what is th different between append and insert method?"
   ]
  },
  {
   "cell_type": "code",
   "execution_count": null,
   "id": "b2fe6162",
   "metadata": {},
   "outputs": [],
   "source": [
    "1. How to add new element in the list...................Completed\n",
    "2. How to edit/alter element in the list\n",
    "3. How to delete element in the list"
   ]
  },
  {
   "cell_type": "code",
   "execution_count": 29,
   "id": "00fe0516",
   "metadata": {},
   "outputs": [
    {
     "name": "stdout",
     "output_type": "stream",
     "text": [
      "['vinoth', 'ramiya', 'firdos', 'ayesa', 'sara', 'devid', 'naveen', 'ahmad', 'kunal', 'kalyani']\n"
     ]
    }
   ],
   "source": [
    "print(students)"
   ]
  },
  {
   "cell_type": "code",
   "execution_count": null,
   "id": "9c42c6a3",
   "metadata": {},
   "outputs": [],
   "source": [
    "# I want to change name from vinoth to vani"
   ]
  },
  {
   "cell_type": "code",
   "execution_count": 32,
   "id": "e5292ee0",
   "metadata": {},
   "outputs": [],
   "source": [
    "students[0] = 'vani'"
   ]
  },
  {
   "cell_type": "code",
   "execution_count": 33,
   "id": "a3c4b405",
   "metadata": {},
   "outputs": [
    {
     "name": "stdout",
     "output_type": "stream",
     "text": [
      "['vani', 'ramiya', 'firdos', 'ayesa', 'sara', 'devid', 'naveen', 'ahmad', 'kunal', 'kalyani']\n"
     ]
    }
   ],
   "source": [
    "print(students)"
   ]
  },
  {
   "cell_type": "code",
   "execution_count": null,
   "id": "62fc9f5b",
   "metadata": {},
   "outputs": [],
   "source": [
    "Deleting\n",
    "1. Temp deleting ================>pop() ==>it will be creating the carbon copy of the deleted items and storing the value \n",
    "that has been assigned to it.\n",
    "Note :- By default it will be delete last element\n",
    "2. permanent deleting"
   ]
  },
  {
   "cell_type": "code",
   "execution_count": 34,
   "id": "2ee60c9c",
   "metadata": {},
   "outputs": [],
   "source": [
    "x=students.pop()"
   ]
  },
  {
   "cell_type": "code",
   "execution_count": 35,
   "id": "5951d6f8",
   "metadata": {},
   "outputs": [
    {
     "name": "stdout",
     "output_type": "stream",
     "text": [
      "['vani', 'ramiya', 'firdos', 'ayesa', 'sara', 'devid', 'naveen', 'ahmad', 'kunal']\n"
     ]
    }
   ],
   "source": [
    "print(students)"
   ]
  },
  {
   "cell_type": "code",
   "execution_count": null,
   "id": "790e67e5",
   "metadata": {},
   "outputs": [],
   "source": [
    "# i want to delete ramya"
   ]
  },
  {
   "cell_type": "code",
   "execution_count": 38,
   "id": "d96a0b8d",
   "metadata": {},
   "outputs": [],
   "source": [
    "y=students.pop(1)"
   ]
  },
  {
   "cell_type": "code",
   "execution_count": 39,
   "id": "4931ad5c",
   "metadata": {},
   "outputs": [
    {
     "name": "stdout",
     "output_type": "stream",
     "text": [
      "ramiya\n"
     ]
    }
   ],
   "source": [
    "print(y)"
   ]
  },
  {
   "cell_type": "code",
   "execution_count": null,
   "id": "42fc82bc",
   "metadata": {},
   "outputs": [],
   "source": [
    "#i want to delete vani"
   ]
  },
  {
   "cell_type": "code",
   "execution_count": 42,
   "id": "f1e49748",
   "metadata": {},
   "outputs": [],
   "source": [
    "del students[0]"
   ]
  },
  {
   "cell_type": "code",
   "execution_count": 43,
   "id": "c33e68ff",
   "metadata": {},
   "outputs": [
    {
     "name": "stdout",
     "output_type": "stream",
     "text": [
      "['firdos', 'ayesa', 'sara', 'devid', 'naveen', 'ahmad', 'kunal']\n"
     ]
    }
   ],
   "source": [
    "print(students)"
   ]
  },
  {
   "cell_type": "code",
   "execution_count": null,
   "id": "8a8cad1c",
   "metadata": {},
   "outputs": [],
   "source": [
    "Interview question : Can you pls explain what is th different between pop and delete **"
   ]
  },
  {
   "cell_type": "code",
   "execution_count": null,
   "id": "3292f5b6",
   "metadata": {},
   "outputs": [],
   "source": []
  }
 ],
 "metadata": {
  "kernelspec": {
   "display_name": "Python 3 (ipykernel)",
   "language": "python",
   "name": "python3"
  },
  "language_info": {
   "codemirror_mode": {
    "name": "ipython",
    "version": 3
   },
   "file_extension": ".py",
   "mimetype": "text/x-python",
   "name": "python",
   "nbconvert_exporter": "python",
   "pygments_lexer": "ipython3",
   "version": "3.11.3"
  }
 },
 "nbformat": 4,
 "nbformat_minor": 5
}
