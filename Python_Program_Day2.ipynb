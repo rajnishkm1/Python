{
 "cells": [
  {
   "cell_type": "code",
   "execution_count": 1,
   "id": "85832d0b",
   "metadata": {},
   "outputs": [
    {
     "name": "stdout",
     "output_type": "stream",
     "text": [
      "Rajnish\n"
     ]
    }
   ],
   "source": [
    "print(\"Rajnish\")"
   ]
  },
  {
   "cell_type": "code",
   "execution_count": 3,
   "id": "4434d3ed",
   "metadata": {},
   "outputs": [
    {
     "name": "stdout",
     "output_type": "stream",
     "text": [
      "hello everyone\n"
     ]
    }
   ],
   "source": [
    "print(\"hello everyone\")"
   ]
  },
  {
   "cell_type": "code",
   "execution_count": 21,
   "id": "f5f395d2",
   "metadata": {},
   "outputs": [],
   "source": [
    "x = 3\n",
    "y = 2"
   ]
  },
  {
   "cell_type": "code",
   "execution_count": 23,
   "id": "a25a4e57",
   "metadata": {},
   "outputs": [
    {
     "name": "stdout",
     "output_type": "stream",
     "text": [
      "5\n"
     ]
    }
   ],
   "source": [
    "z = x+y\n",
    "\n",
    "print(z)"
   ]
  },
  {
   "cell_type": "code",
   "execution_count": 28,
   "id": "dc207b28",
   "metadata": {},
   "outputs": [
    {
     "ename": "SyntaxError",
     "evalue": "invalid syntax (1671250060.py, line 1)",
     "output_type": "error",
     "traceback": [
      "\u001b[1;36m  Cell \u001b[1;32mIn[28], line 1\u001b[1;36m\u001b[0m\n\u001b[1;33m    First Name = ('Rajnish')\u001b[0m\n\u001b[1;37m          ^\u001b[0m\n\u001b[1;31mSyntaxError\u001b[0m\u001b[1;31m:\u001b[0m invalid syntax\n"
     ]
    }
   ],
   "source": [
    "First Name = ('Rajnish')\n",
    "\n",
    "print(First Name)"
   ]
  },
  {
   "cell_type": "code",
   "execution_count": 29,
   "id": "182c56a1",
   "metadata": {},
   "outputs": [
    {
     "name": "stdout",
     "output_type": "stream",
     "text": [
      "Rajnish\n"
     ]
    }
   ],
   "source": [
    "FirstName = 'Rajnish'\n",
    "print(FirstName)"
   ]
  },
  {
   "cell_type": "code",
   "execution_count": 30,
   "id": "72ee7e96",
   "metadata": {},
   "outputs": [
    {
     "name": "stdout",
     "output_type": "stream",
     "text": [
      "Rajnish\n"
     ]
    }
   ],
   "source": [
    "First_Name = 'Rajnish'\n",
    "print(First_Name)"
   ]
  },
  {
   "cell_type": "code",
   "execution_count": 31,
   "id": "577fc953",
   "metadata": {},
   "outputs": [
    {
     "ename": "SyntaxError",
     "evalue": "invalid decimal literal (2098212514.py, line 1)",
     "output_type": "error",
     "traceback": [
      "\u001b[1;36m  Cell \u001b[1;32mIn[31], line 1\u001b[1;36m\u001b[0m\n\u001b[1;33m    1name = 'Mishra'\u001b[0m\n\u001b[1;37m    ^\u001b[0m\n\u001b[1;31mSyntaxError\u001b[0m\u001b[1;31m:\u001b[0m invalid decimal literal\n"
     ]
    }
   ],
   "source": [
    "1name = 'Mishra'\n",
    "print(1name)"
   ]
  },
  {
   "cell_type": "code",
   "execution_count": 32,
   "id": "c1ac24fc",
   "metadata": {},
   "outputs": [
    {
     "name": "stdout",
     "output_type": "stream",
     "text": [
      "Mishra\n"
     ]
    }
   ],
   "source": [
    "name1 = 'Mishra'\n",
    "print(name1)"
   ]
  },
  {
   "cell_type": "code",
   "execution_count": 33,
   "id": "f71fb896",
   "metadata": {},
   "outputs": [
    {
     "ename": "SyntaxError",
     "evalue": "invalid syntax (1030689574.py, line 1)",
     "output_type": "error",
     "traceback": [
      "\u001b[1;36m  Cell \u001b[1;32mIn[33], line 1\u001b[1;36m\u001b[0m\n\u001b[1;33m    name@ = 'Mishra'\u001b[0m\n\u001b[1;37m          ^\u001b[0m\n\u001b[1;31mSyntaxError\u001b[0m\u001b[1;31m:\u001b[0m invalid syntax\n"
     ]
    }
   ],
   "source": [
    "name@ = 'Mishra'\n",
    "print(name@)"
   ]
  },
  {
   "cell_type": "code",
   "execution_count": 35,
   "id": "43d7ac89",
   "metadata": {},
   "outputs": [
    {
     "name": "stdout",
     "output_type": "stream",
     "text": [
      "ravi\n"
     ]
    }
   ],
   "source": [
    "name = 'ravi'        # single quote\n",
    "\n",
    "print(name)"
   ]
  },
  {
   "cell_type": "code",
   "execution_count": 36,
   "id": "de359259",
   "metadata": {},
   "outputs": [
    {
     "name": "stdout",
     "output_type": "stream",
     "text": [
      "ravi\n"
     ]
    }
   ],
   "source": [
    "name2 = 'david'        # double quote\n",
    "\n",
    "print(name)"
   ]
  },
  {
   "cell_type": "code",
   "execution_count": 37,
   "id": "6abecef0",
   "metadata": {},
   "outputs": [
    {
     "name": "stdout",
     "output_type": "stream",
     "text": [
      "rajnish mishra\n"
     ]
    }
   ],
   "source": [
    "fullname = 'rajnish mishra'\n",
    "\n",
    "print(fullname)"
   ]
  },
  {
   "cell_type": "code",
   "execution_count": 38,
   "id": "ec2c557d",
   "metadata": {},
   "outputs": [
    {
     "name": "stdout",
     "output_type": "stream",
     "text": [
      "Rajnish Mishra\n"
     ]
    }
   ],
   "source": [
    "print(fullname.title())   --Arrange name first latter capital"
   ]
  },
  {
   "cell_type": "code",
   "execution_count": 39,
   "id": "72a50e99",
   "metadata": {},
   "outputs": [
    {
     "name": "stdout",
     "output_type": "stream",
     "text": [
      "RAJNISH MISHRA\n"
     ]
    }
   ],
   "source": [
    "print(fullname.upper())    -- All capital latter"
   ]
  },
  {
   "cell_type": "code",
   "execution_count": 40,
   "id": "38e535fb",
   "metadata": {},
   "outputs": [
    {
     "name": "stdout",
     "output_type": "stream",
     "text": [
      "rajnish mishra\n"
     ]
    }
   ],
   "source": [
    "print(fullname.lower())     -- All capital latter"
   ]
  },
  {
   "cell_type": "code",
   "execution_count": null,
   "id": "62f313ce",
   "metadata": {},
   "outputs": [],
   "source": []
  },
  {
   "cell_type": "code",
   "execution_count": null,
   "id": "072b98ab",
   "metadata": {},
   "outputs": [],
   "source": []
  }
 ],
 "metadata": {
  "kernelspec": {
   "display_name": "Python 3 (ipykernel)",
   "language": "python",
   "name": "python3"
  },
  "language_info": {
   "codemirror_mode": {
    "name": "ipython",
    "version": 3
   },
   "file_extension": ".py",
   "mimetype": "text/x-python",
   "name": "python",
   "nbconvert_exporter": "python",
   "pygments_lexer": "ipython3",
   "version": "3.11.3"
  }
 },
 "nbformat": 4,
 "nbformat_minor": 5
}
