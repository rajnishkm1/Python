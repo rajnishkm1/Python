{
 "cells": [
  {
   "cell_type": "code",
   "execution_count": null,
   "id": "9de83818",
   "metadata": {},
   "outputs": [],
   "source": [
    "Introduation to list Datatype :"
   ]
  },
  {
   "cell_type": "code",
   "execution_count": null,
   "id": "e3fbf514",
   "metadata": {},
   "outputs": [],
   "source": [
    "organizating the list datatype :"
   ]
  },
  {
   "cell_type": "code",
   "execution_count": 1,
   "id": "d6231025",
   "metadata": {},
   "outputs": [],
   "source": [
    "cars = ['suziki','maruthi','honda','kia','bmw','toyota','audi','benz']"
   ]
  },
  {
   "cell_type": "code",
   "execution_count": 2,
   "id": "02c2d903",
   "metadata": {},
   "outputs": [
    {
     "name": "stdout",
     "output_type": "stream",
     "text": [
      "['suziki', 'maruthi', 'honda', 'kia', 'bmw', 'toyota', 'audi', 'benz']\n"
     ]
    }
   ],
   "source": [
    "print(cars)"
   ]
  },
  {
   "cell_type": "code",
   "execution_count": 3,
   "id": "17ac8735",
   "metadata": {},
   "outputs": [
    {
     "data": {
      "text/plain": [
       "list"
      ]
     },
     "execution_count": 3,
     "metadata": {},
     "output_type": "execute_result"
    }
   ],
   "source": [
    "type(cars)"
   ]
  },
  {
   "cell_type": "code",
   "execution_count": null,
   "id": "b1185708",
   "metadata": {},
   "outputs": [],
   "source": [
    "# i want to organize the list in a alphabetical order. A TO Z"
   ]
  },
  {
   "cell_type": "code",
   "execution_count": null,
   "id": "81db3552",
   "metadata": {},
   "outputs": [],
   "source": [
    "1. temp approach ========= sorted ========will be able to able to original order back\n",
    "2. permanent approach =====sort ===== all the order will be implemented permanently"
   ]
  },
  {
   "cell_type": "code",
   "execution_count": 5,
   "id": "d58be4c7",
   "metadata": {},
   "outputs": [
    {
     "name": "stdout",
     "output_type": "stream",
     "text": [
      "['audi', 'benz', 'bmw', 'honda', 'kia', 'maruthi', 'suziki', 'toyota']\n"
     ]
    }
   ],
   "source": [
    "print(sorted(cars)) # A, B, B, H, K. M, S, T # B, B ======>e, M"
   ]
  },
  {
   "cell_type": "code",
   "execution_count": 6,
   "id": "3cdbe220",
   "metadata": {},
   "outputs": [
    {
     "name": "stdout",
     "output_type": "stream",
     "text": [
      "['suziki', 'maruthi', 'honda', 'kia', 'bmw', 'toyota', 'audi', 'benz']\n"
     ]
    }
   ],
   "source": [
    "print(cars) #this is the original order"
   ]
  },
  {
   "cell_type": "code",
   "execution_count": 7,
   "id": "007b4094",
   "metadata": {},
   "outputs": [],
   "source": [
    "cars.sort()"
   ]
  },
  {
   "cell_type": "code",
   "execution_count": 8,
   "id": "ba1a1adf",
   "metadata": {},
   "outputs": [
    {
     "name": "stdout",
     "output_type": "stream",
     "text": [
      "['audi', 'benz', 'bmw', 'honda', 'kia', 'maruthi', 'suziki', 'toyota']\n"
     ]
    }
   ],
   "source": [
    "print(cars)"
   ]
  },
  {
   "cell_type": "code",
   "execution_count": 9,
   "id": "12fe2b82",
   "metadata": {},
   "outputs": [
    {
     "name": "stdout",
     "output_type": "stream",
     "text": [
      "['audi', 'benz', 'bmw', 'honda', 'kia', 'maruthi', 'suziki', 'toyota']\n"
     ]
    }
   ],
   "source": [
    "print(cars)"
   ]
  },
  {
   "cell_type": "code",
   "execution_count": null,
   "id": "5aad1a92",
   "metadata": {},
   "outputs": [],
   "source": [
    "#Interview question : what is th different between sorted and sort **"
   ]
  },
  {
   "cell_type": "code",
   "execution_count": null,
   "id": "f519510f",
   "metadata": {},
   "outputs": [],
   "source": [
    "# This is used to comment the line"
   ]
  },
  {
   "cell_type": "code",
   "execution_count": 10,
   "id": "9cb8dc1e",
   "metadata": {},
   "outputs": [
    {
     "name": "stdout",
     "output_type": "stream",
     "text": [
      "['audi', 'benz', 'bmw', 'honda', 'kia', 'maruthi', 'suziki', 'toyota']\n"
     ]
    }
   ],
   "source": [
    "print(cars) # A - Z ===============================>z to A"
   ]
  },
  {
   "cell_type": "code",
   "execution_count": null,
   "id": "c35e5fa8",
   "metadata": {},
   "outputs": [],
   "source": [
    "# i want to print above list in reverse order"
   ]
  },
  {
   "cell_type": "code",
   "execution_count": 11,
   "id": "616ba680",
   "metadata": {},
   "outputs": [],
   "source": [
    "cars.reverse()"
   ]
  },
  {
   "cell_type": "code",
   "execution_count": 12,
   "id": "6de11477",
   "metadata": {},
   "outputs": [
    {
     "name": "stdout",
     "output_type": "stream",
     "text": [
      "['toyota', 'suziki', 'maruthi', 'kia', 'honda', 'bmw', 'benz', 'audi']\n"
     ]
    }
   ],
   "source": [
    "print(cars) "
   ]
  },
  {
   "cell_type": "code",
   "execution_count": null,
   "id": "f13a7a26",
   "metadata": {},
   "outputs": [],
   "source": [
    "#req I want to calculate no of elements in the list"
   ]
  },
  {
   "cell_type": "code",
   "execution_count": 13,
   "id": "ef92d3a5",
   "metadata": {},
   "outputs": [
    {
     "data": {
      "text/plain": [
       "8"
      ]
     },
     "execution_count": 13,
     "metadata": {},
     "output_type": "execute_result"
    }
   ],
   "source": [
    "len(cars)"
   ]
  },
  {
   "cell_type": "code",
   "execution_count": null,
   "id": "aba55e5f",
   "metadata": {},
   "outputs": [],
   "source": [
    "#introducing to slicing"
   ]
  },
  {
   "cell_type": "code",
   "execution_count": null,
   "id": "c09d3698",
   "metadata": {},
   "outputs": [],
   "source": [
    "#general syntax of slicing"
   ]
  },
  {
   "cell_type": "code",
   "execution_count": null,
   "id": "0f81b5c2",
   "metadata": {},
   "outputs": [],
   "source": []
  },
  {
   "cell_type": "code",
   "execution_count": null,
   "id": "6234ed3e",
   "metadata": {},
   "outputs": [],
   "source": []
  },
  {
   "cell_type": "code",
   "execution_count": null,
   "id": "1615a948",
   "metadata": {},
   "outputs": [],
   "source": []
  },
  {
   "cell_type": "code",
   "execution_count": null,
   "id": "37ba3f06",
   "metadata": {},
   "outputs": [],
   "source": []
  },
  {
   "cell_type": "code",
   "execution_count": null,
   "id": "e4931484",
   "metadata": {},
   "outputs": [],
   "source": []
  },
  {
   "cell_type": "code",
   "execution_count": null,
   "id": "3d69417f",
   "metadata": {},
   "outputs": [],
   "source": []
  },
  {
   "cell_type": "code",
   "execution_count": null,
   "id": "0477e5a9",
   "metadata": {},
   "outputs": [],
   "source": []
  },
  {
   "cell_type": "code",
   "execution_count": null,
   "id": "92994f90",
   "metadata": {},
   "outputs": [],
   "source": []
  }
 ],
 "metadata": {
  "kernelspec": {
   "display_name": "Python 3 (ipykernel)",
   "language": "python",
   "name": "python3"
  },
  "language_info": {
   "codemirror_mode": {
    "name": "ipython",
    "version": 3
   },
   "file_extension": ".py",
   "mimetype": "text/x-python",
   "name": "python",
   "nbconvert_exporter": "python",
   "pygments_lexer": "ipython3",
   "version": "3.11.3"
  }
 },
 "nbformat": 4,
 "nbformat_minor": 5
}
